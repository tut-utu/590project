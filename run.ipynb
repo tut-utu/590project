{
 "cells": [
  {
   "cell_type": "code",
   "execution_count": null,
   "metadata": {},
   "outputs": [],
   "source": [
    "\n",
    "from keras_version.model import keras_model\n",
    "from keras_version.data_generator import *\n",
    "from tensorflow.compat.v1 import ConfigProto\n",
    "from tensorflow.compat.v1 import InteractiveSession\n",
    "\n",
    "\n",
    "def fix_gpu():\n",
    "    config = ConfigProto()\n",
    "    config.gpu_options.allow_growth = True\n",
    "    session = InteractiveSession(config=config)\n",
    "\n",
    "\n",
    "fix_gpu()\n",
    "\n",
    "data = data_generator()\n",
    "data.build_vocab()\n",
    "generatort = build_generator(data._wordtoix,data._max_len)\n",
    "model = keras_model(data._max_len)\n",
    "model.compile(metrics=['Accuracy'],loss='categorical_crossentropy',optimizer='Adam')\n",
    "model.train(generatort,epochs=1)"
   ]
  }
 ],
 "metadata": {
  "kernelspec": {
   "display_name": "en3",
   "language": "python",
   "name": "python3"
  },
  "language_info": {
   "codemirror_mode": {
    "name": "ipython",
    "version": 3
   },
   "file_extension": ".py",
   "mimetype": "text/x-python",
   "name": "python",
   "nbconvert_exporter": "python",
   "pygments_lexer": "ipython3",
   "version": "3.8.10"
  },
  "orig_nbformat": 4,
  "vscode": {
   "interpreter": {
    "hash": "f45f0d2f3d1f97bc4fb6554f2443b504785106d5f3612aa10fe5614abe2bf15d"
   }
  }
 },
 "nbformat": 4,
 "nbformat_minor": 2
}
