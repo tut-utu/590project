{
 "cells": [
  {
   "cell_type": "code",
   "execution_count": 2,
   "metadata": {},
   "outputs": [],
   "source": [
    "\n",
    "from keras_version.model import keras_model\n",
    "from keras_version.data_generator import *\n",
    "from tensorflow.compat.v1 import ConfigProto\n",
    "from tensorflow.compat.v1 import InteractiveSession\n",
    "\n",
    "from keras.callbacks import ModelCheckpoint"
   ]
  },
  {
   "cell_type": "code",
   "execution_count": null,
   "metadata": {},
   "outputs": [],
   "source": [
    "dataset = 'flickr8k'\n",
    "word_count_threshold=5\n",
    "batch_size=256\n",
    "\n",
    "\n",
    "\n",
    "embedding_size=256\n",
    "input_size=4096\n",
    "activation='relu'\n",
    "mode = 'new'\n",
    "metrics = ['Accuracy']\n",
    "loss='categorical_crossentropy'\n",
    "optimizer='Adam'\n",
    "checkpoint_filepath = r'./saved_model/checkpoint'\n",
    "\n",
    "\n",
    "epochs=1"
   ]
  },
  {
   "cell_type": "code",
   "execution_count": 3,
   "metadata": {},
   "outputs": [],
   "source": [
    "\n",
    "\n",
    "\n",
    "def fix_gpu():\n",
    "    config = ConfigProto()\n",
    "    config.gpu_options.allow_growth = True\n",
    "    session = InteractiveSession(config=config)\n",
    "\n",
    "\n",
    "fix_gpu()\n",
    "model_checkpoint_callback = ModelCheckpoint(\n",
    "    filepath=checkpoint_filepath,\n",
    "    save_weights_only=True,\n",
    "    monitor='val_accuracy',\n",
    "    save_best_only=False,\n",
    "    save_freq=1000)\n",
    "\n",
    "data = data_generator(dataset=dataset)\n",
    "data.build_vocab(word_count_threshold=word_count_threshold)\n",
    "generatort = build_generator(data._wordtoix,data._max_len,batch_size,dataset)\n",
    "model = keras_model(data._max_len,embedding_size=embedding_size,input_size=input_size,activation=activation)\n",
    "model.compile(metrics=metrics,loss=loss,optimizer=optimizer)\n",
    "model.train(generatort,epochs=epochs)\n",
    "if mode == 'exist':\n",
    "        model.load_weights(checkpoint_filepath)\n",
    "model.train(generatort,epochs=epochs,callbacks=[model_checkpoint_callback])"
   ]
  }
 ],
 "metadata": {
  "kernelspec": {
   "display_name": "en3",
   "language": "python",
   "name": "python3"
  },
  "language_info": {
   "codemirror_mode": {
    "name": "ipython",
    "version": 3
   },
   "file_extension": ".py",
   "mimetype": "text/x-python",
   "name": "python",
   "nbconvert_exporter": "python",
   "pygments_lexer": "ipython3",
   "version": "3.8.10 (default, May 19 2021, 13:12:57) [MSC v.1916 64 bit (AMD64)]"
  },
  "orig_nbformat": 4,
  "vscode": {
   "interpreter": {
    "hash": "f45f0d2f3d1f97bc4fb6554f2443b504785106d5f3612aa10fe5614abe2bf15d"
   }
  }
 },
 "nbformat": 4,
 "nbformat_minor": 2
}
